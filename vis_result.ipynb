{
 "cells": [
  {
   "cell_type": "code",
   "execution_count": 10,
   "metadata": {},
   "outputs": [],
   "source": [
    "import os\n",
    "import cv2\n",
    "import numpy as np\n",
    "import trimesh\n",
    "import torch\n",
    "import matplotlib.pyplot as plt\n",
    "from torch.utils.data import DataLoader\n",
    "from torchvision.utils import save_image, make_grid\n",
    "from utils.people_snapshot_dataset import People_Snapshot_Dataset\n",
    "from utils.multi_garment_dataset import Multi_Garment_Dataset\n",
    "from models.networks.smpl import SMPL\n",
    "from models.networks.render import SMPLRenderer\n",
    "from utils.util import load_obj, load_pickle_file, write_pickle_file"
   ]
  },
  {
   "cell_type": "code",
   "execution_count": 11,
   "metadata": {},
   "outputs": [],
   "source": [
    "data_root = 'data/Multi-Garment_dataset'\n",
    "pose_cam_path = 'assets/pose_cam.pkl'\n",
    "isHres = True\n",
    "image_size = 256\n",
    "batch_size = 1\n",
    "num_frame = 4"
   ]
  },
  {
   "cell_type": "code",
   "execution_count": 12,
   "metadata": {},
   "outputs": [],
   "source": [
    "smpl = SMPL(pkl_path='assets/smpl_model.pkl', isHres=isHres).cuda()\n",
    "if isHres:\n",
    "    faces = smpl.faces_hres\n",
    "else:\n",
    "    faces = smpl.faces\n",
    "smpl_render = SMPLRenderer(faces=faces).cuda()"
   ]
  },
  {
   "cell_type": "code",
   "execution_count": 13,
   "metadata": {},
   "outputs": [],
   "source": [
    "train_dataset = Multi_Garment_Dataset(data_root=data_root, pose_cam_path=pose_cam_path, num_frame=num_frame, isHres=isHres)\n",
    "train_loader = DataLoader(train_dataset, batch_size=batch_size, shuffle=True)"
   ]
  },
  {
   "cell_type": "code",
   "execution_count": 14,
   "metadata": {},
   "outputs": [
    {
     "name": "stdout",
     "output_type": "stream",
     "text": [
      "shape torch.Size([1, 10])\n",
      "poses torch.Size([1, 4, 72])\n",
      "cams torch.Size([1, 4, 3])\n",
      "v_personal torch.Size([1, 27554, 3])\n",
      "uv_image torch.Size([1, 3, 2048, 2048])\n",
      "f2vts torch.Size([1, 55104, 3, 2])\n"
     ]
    }
   ],
   "source": [
    "for i, data in enumerate(train_loader):\n",
    "    for key in data:\n",
    "        print(key, data[key].size())\n",
    "    shape = data['shape'].cuda()\n",
    "    pose = data['poses'][:, 0, :].cuda()\n",
    "    cam = data['cams'][:, 0, :].cuda()\n",
    "    v_personal = data['v_personal'].cuda()\n",
    "    uv_image = data['uv_image'].cuda()\n",
    "    f2vts = data['f2vts'].cuda()\n",
    "    if i >= 0:\n",
    "        break"
   ]
  },
  {
   "cell_type": "code",
   "execution_count": 15,
   "metadata": {},
   "outputs": [
    {
     "name": "stdout",
     "output_type": "stream",
     "text": [
      "torch.Size([1, 55104, 3, 3, 3, 3])\n"
     ]
    }
   ],
   "source": [
    "tex = smpl_render.extract_tex(uv_image, smpl_render.points_to_sampler(f2vts))\n",
    "print(tex.size())"
   ]
  },
  {
   "cell_type": "code",
   "execution_count": 16,
   "metadata": {},
   "outputs": [],
   "source": [
    "verts = smpl(shape, pose, v_personal)\n",
    "verts = smpl_render.project_to_image(verts, cam, flip=True, withz=True)"
   ]
  },
  {
   "cell_type": "code",
   "execution_count": 17,
   "metadata": {},
   "outputs": [
    {
     "name": "stdout",
     "output_type": "stream",
     "text": [
      "torch.Size([1, 3, 256, 256])\n"
     ]
    }
   ],
   "source": [
    "img_masked = smpl_render.render(verts, tex)\n",
    "print(img_masked.size())"
   ]
  },
  {
   "cell_type": "code",
   "execution_count": 18,
   "metadata": {},
   "outputs": [
    {
     "data": {
      "text/plain": [
       "<matplotlib.image.AxesImage at 0x7f2d9379e048>"
      ]
     },
     "execution_count": 18,
     "metadata": {},
     "output_type": "execute_result"
    },
    {
     "data": {
      "image/png": "[encoded data removed]",
      "text/plain": [
       "<Figure size 432x288 with 1 Axes>"
      ]
     },
     "metadata": {
      "needs_background": "light"
     },
     "output_type": "display_data"
    }
   ],
   "source": [
    "img_masked_vis = (img_masked.detach().cpu().numpy()[0] * 255).astype(np.uint8).transpose(1, 2, 0)\n",
    "plt.imshow(img_masked_vis)"
   ]
  },
  {
   "cell_type": "code",
   "execution_count": null,
   "metadata": {},
   "outputs": [],
   "source": []
  }
 ],
 "metadata": {
  "kernelspec": {
   "display_name": "Python 3.6.10 64-bit ('dance': conda)",
   "language": "python",
   "name": "python361064bitdancecondabdad1817139c47f69e33e658abb30bab"
  },
  "language_info": {
   "codemirror_mode": {
    "name": "ipython",
    "version": 3
   },
   "file_extension": ".py",
   "mimetype": "text/x-python",
   "name": "python",
   "nbconvert_exporter": "python",
   "pygments_lexer": "ipython3",
   "version": "3.6.10"
  }
 },
 "nbformat": 4,
 "nbformat_minor": 4
}
