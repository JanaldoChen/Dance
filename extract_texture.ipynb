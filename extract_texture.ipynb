{
 "cells": [
  {
   "cell_type": "code",
   "execution_count": 1,
   "metadata": {},
   "outputs": [],
   "source": [
    "import os\n",
    "import cv2\n",
    "import numpy as np\n",
    "import trimesh\n",
    "import torch\n",
    "import matplotlib.pyplot as plt\n",
    "from torch.utils.data import DataLoader\n",
    "from torchvision.utils import save_image, make_grid\n",
    "from models.networks.smpl import SMPL\n",
    "from models.networks.render import SMPLRenderer\n",
    "from utils.util import load_obj, load_pickle_file, write_pickle_file"
   ]
  },
  {
   "cell_type": "code",
   "execution_count": 2,
   "metadata": {},
   "outputs": [],
   "source": [
    "from PIL import Image\n",
    "from torch.utils.data import Dataset\n",
    "import torchvision.transforms as transforms\n",
    "class iPER_Dataset(Dataset):\n",
    "    def __init__(self, imgs_path, pose_shape_pkl_path, image_size=256):\n",
    "        self.imgs_path_list = os.listdir(imgs_path)\n",
    "        self.pose_shape_pkl = load_pickle_file(pose_shape_pkl_path)\n",
    "        self.Resize = transforms.Resize(image_size)\n",
    "        self.ToTensor = transforms.ToTensor()\n",
    "        \n",
    "        if len(self.imgs_path_list) != self.pose_shape_pkl['pose'].shape[0]:\n",
    "            print('images: ', len(self.imgs_path_list))\n",
    "            print('smpls: ', self.pose_shape_pkl['pose'].shape[0])\n",
    "        \n",
    "        \n",
    "    def __getitem__(self, index):\n",
    "        img_path = self.imgs_path_list[index]\n",
    "        img = self.Resize(Image.open(img_path).convert('RGB'))\n",
    "        pose = self.pose_shape_pkl['pose'][index]\n",
    "        shape = self.pose_shape_pkl['shape'][index]\n",
    "        cam = self.pose_shape_pkl['cams'][index]\n",
    "        \n",
    "        output = {\n",
    "            'image': self.ToTensor(img).float(),\n",
    "            'pose': torch.from_numpy(pose).float(),\n",
    "            'shape': torch.from_numpy(shape).float(),\n",
    "            'cam': torch.from_numpy(cam).float()\n",
    "        }\n",
    "        \n",
    "    def __len__(self):\n",
    "        return len(self.imgs_path_list)"
   ]
  },
  {
   "cell_type": "code",
   "execution_count": 3,
   "metadata": {},
   "outputs": [],
   "source": [
    "data_root = 'data/iPER'\n",
    "batch_size = 1\n",
    "image_size = 256"
   ]
  },
  {
   "cell_type": "code",
   "execution_count": 4,
   "metadata": {},
   "outputs": [
    {
     "name": "stdout",
     "output_type": "stream",
     "text": [
      "164\n"
     ]
    }
   ],
   "source": [
    "train_ID_list = []\n",
    "for line in open(os.path.join(data_root, 'train.txt')):\n",
    "    train_ID_list.append(line.split()[0])\n",
    "print(len(train_ID_list))"
   ]
  },
  {
   "cell_type": "code",
   "execution_count": 5,
   "metadata": {},
   "outputs": [
    {
     "name": "stdout",
     "output_type": "stream",
     "text": [
      "006/1/1\n"
     ]
    }
   ],
   "source": [
    "video_ID = train_ID_list[0]\n",
    "print(video_ID)"
   ]
  },
  {
   "cell_type": "code",
   "execution_count": 6,
   "metadata": {},
   "outputs": [],
   "source": [
    "imgs_path = os.path.join(data_root, 'images', video_ID)\n",
    "pose_shape_pkl_path = os.path.join(data_root, 'smpls', video_ID, 'pose_shape.pkl')\n",
    "train_dataset = iPER_Dataset(imgs_path, pose_shape_pkl_path, image_size=image_size)\n",
    "train_loader = DataLoader(train_dataset, batch_size=batch_size, shuffle=True)"
   ]
  },
  {
   "cell_type": "code",
   "execution_count": null,
   "metadata": {},
   "outputs": [],
   "source": [
    "import torch\n",
    "import torch.nn as nn\n",
    "import torch.nn.functional as F\n",
    "\n",
    "class UVImageModel(nn.Module):\n",
    "    def __init__(self, uv, image_size):\n",
    "        super(UVImageModel, self).__init__()\n",
    "        # (1, 3, image_size, image_size)\n",
    "        self.weight = nn.Parameter(torch.zeros(1, 3, image_size, image_size) - 1.0)\n",
    "         # (f, t, t, 2)\n",
    "        self.f, self.t = uv.shape[:2]\n",
    "        # (1, f, t*t, 2)\n",
    "        uv = uv.reshape(1, self.f, self.t * self.t, 2)\n",
    "        self.uv = torch.FloatTensor(uv).cuda()\n",
    "    \n",
    "    def forward(self):\n",
    "        uv_image = torch.tanh(self.weight)\n",
    "        texture = F.grid_sample(uv_image, self.uv)\n",
    "        # (1,3,f,t,t)\n",
    "        texture = texture.view(1, 3, self.f, self.t, self.t)\n",
    "        # (1,f,t,t,3)\n",
    "        texture = texture.permute(0, 2, 3, 4, 1)\n",
    "\n",
    "        return texture\n",
    "\n",
    "    def get_uv_image(self):\n",
    "        return torch.tanh(self.weight)\n",
    "    \n",
    "def compute_uv_image(uv, texture, uv_size=224):\n",
    "    \"\"\"\n",
    "    :param uv: (f, t, t, 2)\n",
    "    :param texture: torch.Tensor [f, t, t, 3]\n",
    "    :param uv_size: int, default is 224\n",
    "    :return: uv_image (3,h,w) rgb(-1,1)\n",
    "    \"\"\"\n",
    "    with torch.enable_grad():\n",
    "        uv_image_model = UVImageModel(uv, image_size=uv_size).cuda()\n",
    "        opt = torch.optim.Adam(uv_image_model.parameters(), lr=1e-2)\n",
    "        for epoch in range(2000):\n",
    "            pred_texture = uv_image_model()\n",
    "\n",
    "            loss = ((pred_texture - texture) ** 2).mean()\n",
    "            loss.backward()\n",
    "            opt.step()\n",
    "            opt.zero_grad()\n",
    "\n",
    "            if epoch % 50 == 0:\n",
    "                print(epoch, loss.item())\n",
    "\n",
    "    return uv_image_model.get_uv_image()[0]"
   ]
  }
 ],
 "metadata": {
  "kernelspec": {
   "display_name": "Python 3.6.10 64-bit ('dance': conda)",
   "language": "python",
   "name": "python361064bitdancecondabdad1817139c47f69e33e658abb30bab"
  },
  "language_info": {
   "codemirror_mode": {
    "name": "ipython",
    "version": 3
   },
   "file_extension": ".py",
   "mimetype": "text/x-python",
   "name": "python",
   "nbconvert_exporter": "python",
   "pygments_lexer": "ipython3",
   "version": "3.6.10"
  }
 },
 "nbformat": 4,
 "nbformat_minor": 4
}
