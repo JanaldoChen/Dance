{
 "cells": [
  {
   "cell_type": "code",
   "execution_count": 1,
   "metadata": {},
   "outputs": [],
   "source": [
    "import os\n",
    "import cv2\n",
    "import numpy as np\n",
    "import trimesh\n",
    "import torch\n",
    "import matplotlib.pyplot as plt\n",
    "from torch.utils.data import DataLoader\n",
    "from torchvision.utils import save_image, make_grid\n",
    "from utils.people_snapshot_dataset import People_Snapshot_Dataset\n",
    "from utils.multi_garment_dataset import Multi_Garment_Dataset\n",
    "from utils.iper_dataset import iPER_Dataset\n",
    "from models.networks.smpl import SMPL\n",
    "from models.networks.render import SMPLRenderer\n",
    "from utils.util import load_obj, load_pickle_file, write_pickle_file"
   ]
  },
  {
   "cell_type": "code",
   "execution_count": 2,
   "metadata": {},
   "outputs": [],
   "source": [
    "torch.cuda.set_device(1)"
   ]
  },
  {
   "cell_type": "code",
   "execution_count": 3,
   "metadata": {},
   "outputs": [],
   "source": [
    "data_root = 'data/Multi-Garment_dataset'\n",
    "vis_result_dir = 'outputs/vis_result_3D'\n",
    "isHres = True\n",
    "image_size = 256\n",
    "batch_size = 6\n",
    "num_frame = 8"
   ]
  },
  {
   "cell_type": "code",
   "execution_count": 4,
   "metadata": {},
   "outputs": [],
   "source": [
    "smpl = SMPL(pkl_path='assets/smpl_model.pkl', isHres=isHres).cuda()\n",
    "if isHres:\n",
    "    faces = smpl.faces_hres\n",
    "else:\n",
    "    faces = smpl.faces\n",
    "smpl_render = SMPLRenderer(faces=faces).cuda()"
   ]
  },
  {
   "cell_type": "code",
   "execution_count": 5,
   "metadata": {},
   "outputs": [],
   "source": [
    "smpl_render.set_bg_color((1, 1, 1))"
   ]
  },
  {
   "cell_type": "code",
   "execution_count": 6,
   "metadata": {},
   "outputs": [],
   "source": [
    "smpl_render.set_ambient_light(int_dir=0.3, int_amb=0.7, direction=(1, 0.5, 0.5))"
   ]
  },
  {
   "cell_type": "code",
   "execution_count": 7,
   "metadata": {},
   "outputs": [],
   "source": [
    "train_dataset = Multi_Garment_Dataset(data_root=data_root, num_frame=num_frame, isHres=isHres)\n",
    "train_loader = DataLoader(train_dataset, batch_size=batch_size, shuffle=True)"
   ]
  },
  {
   "cell_type": "code",
   "execution_count": 8,
   "metadata": {},
   "outputs": [
    {
     "name": "stdout",
     "output_type": "stream",
     "text": [
      "shape:  torch.Size([6, 10])\n",
      "pose:  torch.Size([6, 72])\n",
      "cam:  torch.Size([6, 3])\n",
      "poses:  torch.Size([6, 8, 72])\n",
      "cams:  torch.Size([6, 8, 3])\n",
      "v_personal:  torch.Size([6, 27554, 3])\n",
      "uv_image:  torch.Size([6, 3, 2048, 2048])\n",
      "f2vts:  torch.Size([6, 55104, 3, 2])\n",
      "tex:  torch.Size([6, 55104, 3, 3, 3, 3])\n"
     ]
    }
   ],
   "source": [
    "for i, data in enumerate(train_loader):\n",
    "    \n",
    "    shape = data['shape'].cuda()\n",
    "    pose = data['pose'].cuda()\n",
    "    cam = data['cam'].cuda()\n",
    "    poses = data['poses'].cuda()\n",
    "    cams = data['cams'].cuda()\n",
    "    v_personal = data['v_personal'].cuda()\n",
    "    uv_image = data['uv_image'].cuda()\n",
    "    f2vts = data['f2vts'].cuda()\n",
    "    \n",
    "    tex = smpl_render.extract_tex(uv_image, smpl_render.points_to_sampler(f2vts))\n",
    "    \n",
    "    print('shape: ', shape.size())\n",
    "    print('pose: ', pose.size())\n",
    "    print('cam: ', cam.size())\n",
    "    print('poses: ', poses.size())\n",
    "    print('cams: ', cams.size())\n",
    "    print('v_personal: ', v_personal.size())\n",
    "    print('uv_image: ', uv_image.size())\n",
    "    print('f2vts: ', f2vts.size())\n",
    "    print('tex: ', tex.size())\n",
    "    \n",
    "    if i >= 0:\n",
    "        break"
   ]
  },
  {
   "cell_type": "code",
   "execution_count": 9,
   "metadata": {},
   "outputs": [
    {
     "name": "stdout",
     "output_type": "stream",
     "text": [
      "torch.Size([6, 3, 256, 256])\n"
     ]
    }
   ],
   "source": [
    "verts_personal = smpl(shape, pose, v_personal)\n",
    "verts_personal = smpl_render.project_to_image(verts_personal, cam, flip=False, withz=True)\n",
    "img_masked_personal = smpl_render.render(verts_personal, tex)\n",
    "print(img_masked_personal.size())"
   ]
  },
  {
   "cell_type": "code",
   "execution_count": 10,
   "metadata": {},
   "outputs": [],
   "source": [
    "pose_T = torch.zeros_like(pose).cuda()"
   ]
  },
  {
   "cell_type": "code",
   "execution_count": 11,
   "metadata": {},
   "outputs": [],
   "source": [
    "verts_T = smpl(shape, pose_T)\n",
    "verts_T = smpl_render.project_to_image(verts_T, cam, flip=False, withz=True)"
   ]
  },
  {
   "cell_type": "code",
   "execution_count": 12,
   "metadata": {},
   "outputs": [],
   "source": [
    "verts_T_personal = smpl(shape, pose_T, v_personal * 0.5)\n",
    "verts_T_personal = smpl_render.project_to_image(verts_T_personal, cam, flip=False, withz=True)"
   ]
  },
  {
   "cell_type": "code",
   "execution_count": 13,
   "metadata": {},
   "outputs": [],
   "source": [
    "verts_T_personal_gt = smpl(shape, pose_T, v_personal)\n",
    "verts_T_personal_gt = smpl_render.project_to_image(verts_T_personal_gt, cam, flip=False, withz=True)"
   ]
  },
  {
   "cell_type": "code",
   "execution_count": 14,
   "metadata": {},
   "outputs": [
    {
     "name": "stdout",
     "output_type": "stream",
     "text": [
      "torch.Size([6, 3, 256, 256])\n"
     ]
    }
   ],
   "source": [
    "img_smpl = smpl_render.render(verts_T)\n",
    "print(img_smpl.size())"
   ]
  },
  {
   "cell_type": "code",
   "execution_count": 15,
   "metadata": {},
   "outputs": [
    {
     "name": "stdout",
     "output_type": "stream",
     "text": [
      "torch.Size([6, 3, 256, 256])\n"
     ]
    }
   ],
   "source": [
    "img_smpl_personal = smpl_render.render(verts_T_personal)\n",
    "print(img_smpl_personal.size())"
   ]
  },
  {
   "cell_type": "code",
   "execution_count": 16,
   "metadata": {},
   "outputs": [
    {
     "name": "stdout",
     "output_type": "stream",
     "text": [
      "torch.Size([6, 3, 256, 256])\n"
     ]
    }
   ],
   "source": [
    "img_smpl_personal_gt = smpl_render.render(verts_T_personal_gt)\n",
    "print(img_smpl_personal_gt.size())"
   ]
  },
  {
   "cell_type": "code",
   "execution_count": 17,
   "metadata": {},
   "outputs": [
    {
     "name": "stdout",
     "output_type": "stream",
     "text": [
      "shape_ref:  torch.Size([8, 10])\n",
      "pose_ref:  torch.Size([8, 72])\n",
      "cam_ref:  torch.Size([8, 3])\n",
      "v_personal_ref:  torch.Size([8, 27554, 3])\n",
      "tex_ref:  torch.Size([8, 55104, 3, 3, 3, 3])\n",
      "verts_ref:  torch.Size([8, 27554, 3])\n",
      "torch.Size([8, 3, 256, 256])\n",
      "shape_ref:  torch.Size([8, 10])\n",
      "pose_ref:  torch.Size([8, 72])\n",
      "cam_ref:  torch.Size([8, 3])\n",
      "v_personal_ref:  torch.Size([8, 27554, 3])\n",
      "tex_ref:  torch.Size([8, 55104, 3, 3, 3, 3])\n",
      "verts_ref:  torch.Size([8, 27554, 3])\n",
      "torch.Size([8, 3, 256, 256])\n",
      "shape_ref:  torch.Size([8, 10])\n",
      "pose_ref:  torch.Size([8, 72])\n",
      "cam_ref:  torch.Size([8, 3])\n",
      "v_personal_ref:  torch.Size([8, 27554, 3])\n",
      "tex_ref:  torch.Size([8, 55104, 3, 3, 3, 3])\n",
      "verts_ref:  torch.Size([8, 27554, 3])\n",
      "torch.Size([8, 3, 256, 256])\n",
      "shape_ref:  torch.Size([8, 10])\n",
      "pose_ref:  torch.Size([8, 72])\n",
      "cam_ref:  torch.Size([8, 3])\n",
      "v_personal_ref:  torch.Size([8, 27554, 3])\n",
      "tex_ref:  torch.Size([8, 55104, 3, 3, 3, 3])\n",
      "verts_ref:  torch.Size([8, 27554, 3])\n",
      "torch.Size([8, 3, 256, 256])\n",
      "shape_ref:  torch.Size([8, 10])\n",
      "pose_ref:  torch.Size([8, 72])\n",
      "cam_ref:  torch.Size([8, 3])\n",
      "v_personal_ref:  torch.Size([8, 27554, 3])\n",
      "tex_ref:  torch.Size([8, 55104, 3, 3, 3, 3])\n",
      "verts_ref:  torch.Size([8, 27554, 3])\n",
      "torch.Size([8, 3, 256, 256])\n",
      "shape_ref:  torch.Size([8, 10])\n",
      "pose_ref:  torch.Size([8, 72])\n",
      "cam_ref:  torch.Size([8, 3])\n",
      "v_personal_ref:  torch.Size([8, 27554, 3])\n",
      "tex_ref:  torch.Size([8, 55104, 3, 3, 3, 3])\n",
      "verts_ref:  torch.Size([8, 27554, 3])\n",
      "torch.Size([8, 3, 256, 256])\n"
     ]
    }
   ],
   "source": [
    "for i in range(batch_size):\n",
    "    save_image(img_masked_personal[i].detach().cpu(), os.path.join(vis_result_dir, 'img_masked_personal_{}.jpg'.format(i)))\n",
    "    save_image(img_smpl[i].detach().cpu(), os.path.join(vis_result_dir, 'img_smpl_{}.jpg'.format(i)))\n",
    "    save_image(img_smpl_personal[i].detach().cpu(), os.path.join(vis_result_dir, 'img_smpl_personal_{}.jpg'.format(i)))\n",
    "    save_image(img_smpl_personal_gt[i].detach().cpu(), os.path.join(vis_result_dir, 'img_smpl_personal_gt_{}.jpg'.format(i)))\n",
    "    shape_ref = shape[i][None].repeat(num_frame, 1)\n",
    "    pose_ref = poses[i]\n",
    "    cam_ref = cams[i]\n",
    "    v_personal_ref = v_personal[i][None].repeat(num_frame, 1, 1)\n",
    "    tex_ref = tex[i][None].repeat(num_frame, 1, 1, 1, 1, 1)\n",
    "    \n",
    "    print('shape_ref: ', shape_ref.size())\n",
    "    print('pose_ref: ', pose_ref.size())\n",
    "    print('cam_ref: ', cam_ref.size())\n",
    "    print('v_personal_ref: ', v_personal_ref.size())\n",
    "    print('tex_ref: ', tex_ref.size())\n",
    "    \n",
    "    verts_ref = smpl(shape_ref, pose_ref, v_personal_ref)\n",
    "    print('verts_ref: ', verts_ref.size())\n",
    "    verts_ref = smpl_render.project_to_image(verts_ref, cam_ref, flip=True, withz=True)\n",
    "    img_masked_ref_personal = smpl_render.render(verts_ref, tex_ref)\n",
    "    img_smpl_ref_personal = smpl_render.render(verts_ref)\n",
    "    print(img_masked_ref_personal.size())\n",
    "    save_image(img_masked_ref_personal.detach().cpu(), os.path.join(vis_result_dir, 'img_masked_refs_personal_gt_{}.jpg'.format(i)), nrow=num_frame)\n",
    "    save_image(img_smpl_ref_personal.detach().cpu(), os.path.join(vis_result_dir, 'img_smpl_refs_personal_gt_{}.jpg'.format(i)), nrow=num_frame)"
   ]
  },
  {
   "cell_type": "code",
   "execution_count": 18,
   "metadata": {},
   "outputs": [
    {
     "data": {
      "text/plain": [
       "<matplotlib.image.AxesImage at 0x7ff7af873c88>"
      ]
     },
     "execution_count": 18,
     "metadata": {},
     "output_type": "execute_result"
    },
    {
     "data": {
      "image/png": "[encoded data removed]",
      "text/plain": [
       "<Figure size 432x288 with 1 Axes>"
      ]
     },
     "metadata": {
      "needs_background": "light"
     },
     "output_type": "display_data"
    }
   ],
   "source": [
    "img_masked_ref_personal_vis = (img_masked_ref_personal.detach().cpu().numpy()[0] * 255).astype(np.uint8).transpose(1, 2, 0)\n",
    "plt.imshow(img_masked_ref_personal_vis)"
   ]
  },
  {
   "cell_type": "code",
   "execution_count": 19,
   "metadata": {},
   "outputs": [],
   "source": [
    "vis_ID = 2"
   ]
  },
  {
   "cell_type": "code",
   "execution_count": 20,
   "metadata": {},
   "outputs": [
    {
     "data": {
      "text/plain": [
       "<matplotlib.image.AxesImage at 0x7ff7ac757400>"
      ]
     },
     "execution_count": 20,
     "metadata": {},
     "output_type": "execute_result"
    },
    {
     "data": {
      "image/png": "[encoded data removed]",
      "text/plain": [
       "<Figure size 432x288 with 1 Axes>"
      ]
     },
     "metadata": {
      "needs_background": "light"
     },
     "output_type": "display_data"
    }
   ],
   "source": [
    "img_masked_personal_vis = (img_masked_personal.detach().cpu().numpy()[vis_ID] * 255).astype(np.uint8).transpose(1, 2, 0)\n",
    "plt.imshow(img_masked_personal_vis)"
   ]
  },
  {
   "cell_type": "code",
   "execution_count": 21,
   "metadata": {},
   "outputs": [
    {
     "data": {
      "text/plain": [
       "<matplotlib.image.AxesImage at 0x7ff7a972d940>"
      ]
     },
     "execution_count": 21,
     "metadata": {},
     "output_type": "execute_result"
    },
    {
     "data": {
      "image/png": "[encoded data removed]",
      "text/plain": [
       "<Figure size 432x288 with 1 Axes>"
      ]
     },
     "metadata": {
      "needs_background": "light"
     },
     "output_type": "display_data"
    }
   ],
   "source": [
    "img_smpl_vis = (img_smpl.detach().cpu().numpy()[vis_ID] * 255).astype(np.uint8).transpose(1, 2, 0)\n",
    "plt.imshow(img_smpl_vis)"
   ]
  },
  {
   "cell_type": "code",
   "execution_count": 22,
   "metadata": {},
   "outputs": [
    {
     "data": {
      "text/plain": [
       "<matplotlib.image.AxesImage at 0x7ff7a97141d0>"
      ]
     },
     "execution_count": 22,
     "metadata": {},
     "output_type": "execute_result"
    },
    {
     "data": {
      "image/png": "[encoded data removed]",
      "text/plain": [
       "<Figure size 432x288 with 1 Axes>"
      ]
     },
     "metadata": {
      "needs_background": "light"
     },
     "output_type": "display_data"
    }
   ],
   "source": [
    "img_smpl_personal_vis = (img_smpl_personal.detach().cpu().numpy()[vis_ID] * 255).astype(np.uint8).transpose(1, 2, 0)\n",
    "plt.imshow(img_smpl_personal_vis)"
   ]
  },
  {
   "cell_type": "code",
   "execution_count": 23,
   "metadata": {},
   "outputs": [
    {
     "data": {
      "text/plain": [
       "<matplotlib.image.AxesImage at 0x7ff7a27919b0>"
      ]
     },
     "execution_count": 23,
     "metadata": {},
     "output_type": "execute_result"
    },
    {
     "data": {
      "image/png": "[encoded data removed]",
      "text/plain": [
       "<Figure size 432x288 with 1 Axes>"
      ]
     },
     "metadata": {
      "needs_background": "light"
     },
     "output_type": "display_data"
    }
   ],
   "source": [
    "img_smpl_personal_gt_vis = (img_smpl_personal_gt.detach().cpu().numpy()[vis_ID] * 255).astype(np.uint8).transpose(1, 2, 0)\n",
    "plt.imshow(img_smpl_personal_gt_vis)"
   ]
  },
  {
   "cell_type": "code",
   "execution_count": null,
   "metadata": {},
   "outputs": [],
   "source": []
  }
 ],
 "metadata": {
  "kernelspec": {
   "display_name": "Python 3.6.10 64-bit ('dance': conda)",
   "language": "python",
   "name": "python361064bitdancecondabdad1817139c47f69e33e658abb30bab"
  },
  "language_info": {
   "codemirror_mode": {
    "name": "ipython",
    "version": 3
   },
   "file_extension": ".py",
   "mimetype": "text/x-python",
   "name": "python",
   "nbconvert_exporter": "python",
   "pygments_lexer": "ipython3",
   "version": "3.6.10"
  }
 },
 "nbformat": 4,
 "nbformat_minor": 4
}
